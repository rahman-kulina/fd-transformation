{
 "cells": [
  {
   "cell_type": "code",
   "execution_count": null,
   "id": "adjacent-paris",
   "metadata": {},
   "outputs": [],
   "source": [
    "# the packages\n",
    "from sqlalchemy import create_engine\n",
    "import pandas as pd\n",
    "import numpy as np\n",
    "import os\n",
    "import re\n",
    "from dotenv import load_dotenv"
   ]
  },
  {
   "cell_type": "code",
   "execution_count": null,
   "id": "graduate-video",
   "metadata": {},
   "outputs": [],
   "source": [
    "pd.set_option('display.max_columns', None)\n",
    "pd.set_option('display.max_rows', None)\n",
    "pd.set_option('display.max_colwidth', -1)"
   ]
  },
  {
   "cell_type": "code",
   "execution_count": null,
   "id": "athletic-cargo",
   "metadata": {},
   "outputs": [],
   "source": [
    "load_dotenv()\n",
    "\n",
    "db_access = os.environ['MYSQL_PROD_CON']\n",
    "db_access"
   ]
  },
  {
   "cell_type": "markdown",
   "id": "through-parking",
   "metadata": {},
   "source": [
    "## Load the Data"
   ]
  },
  {
   "cell_type": "code",
   "execution_count": null,
   "id": "stone-edition",
   "metadata": {},
   "outputs": [],
   "source": [
    "# access the db\n",
    "con_db = create_engine(db_access)"
   ]
  },
  {
   "cell_type": "code",
   "execution_count": null,
   "id": "described-denmark",
   "metadata": {},
   "outputs": [],
   "source": [
    "# set the outlet\n",
    "name = \"Timurasa Indonesia\"\n",
    "# run the query\n",
    "q = f\"\"\"\n",
    "SELECT o.name as outlet, \n",
    "       p.id,\n",
    "       p.name as product,\n",
    "       pm.id AS media_id,\n",
    "       pm.media AS media_name\n",
    "FROM products p\n",
    "JOIN outlets o ON o.id = p.outlet_id\n",
    "LEFT JOIN product_medias pm ON pm.product_id = p.id\n",
    "WHERE o.name = \"{name}\" and p.is_deleted = 0 and pm.media = \"default-product-pict.jpg\"\n",
    "group by p.id\n",
    "\"\"\""
   ]
  },
  {
   "cell_type": "code",
   "execution_count": null,
   "id": "infectious-hawaiian",
   "metadata": {},
   "outputs": [],
   "source": [
    "# store to dataframe\n",
    "df_mp = pd.read_sql(q, con=con_db)\n",
    "df_mp.info()"
   ]
  },
  {
   "cell_type": "code",
   "execution_count": null,
   "id": "refined-register",
   "metadata": {},
   "outputs": [],
   "source": [
    "# optional if you have the requested data\n",
    "df_mp = pd.read_csv(\"data/bestmeatshop-images-null-info.csv\")\n",
    "df_mp.info()"
   ]
  },
  {
   "cell_type": "markdown",
   "id": "defensive-killer",
   "metadata": {},
   "source": [
    "## Add media name into the dataframe"
   ]
  },
  {
   "cell_type": "code",
   "execution_count": null,
   "id": "athletic-church",
   "metadata": {},
   "outputs": [],
   "source": [
    "# make sure the outlet spelling name is same with the prefix name of list, if dont, set the outlet name in dataframe\n",
    "df_mp[\"outlet\"] = \"bestmeat\""
   ]
  },
  {
   "cell_type": "code",
   "execution_count": null,
   "id": "nuclear-national",
   "metadata": {},
   "outputs": [],
   "source": [
    "# convertion filename function\n",
    "def convertmedianame(name, outlet):\n",
    "    outlet = re.sub(r'([^\\s\\w]|_)+', '', outlet)\n",
    "    name = name.replace(\"/\",\"\")\n",
    "    name = name.replace(\"'\",\"\")\n",
    "    return outlet + \"_\" + name + \".jpg\""
   ]
  },
  {
   "cell_type": "code",
   "execution_count": null,
   "id": "secondary-bride",
   "metadata": {},
   "outputs": [],
   "source": [
    "# get the media name using the convertion function\n",
    "df_mp['media_name'] = df_mp.apply(lambda x: convertmedianame(x['product'], x['outlet']), axis=1)"
   ]
  },
  {
   "cell_type": "code",
   "execution_count": null,
   "id": "focal-corporation",
   "metadata": {},
   "outputs": [],
   "source": [
    "# sorting the data based on media name\n",
    "df_mp = df_mp.sort_values(by=[\"media_name\"])"
   ]
  },
  {
   "cell_type": "code",
   "execution_count": null,
   "id": "excellent-namibia",
   "metadata": {},
   "outputs": [],
   "source": [
    "# check the data in detail\n",
    "df_mp"
   ]
  },
  {
   "cell_type": "markdown",
   "id": "pretty-proportion",
   "metadata": {},
   "source": [
    "## Load Filename List"
   ]
  },
  {
   "cell_type": "code",
   "execution_count": null,
   "id": "indoor-covering",
   "metadata": {},
   "outputs": [],
   "source": [
    "# set the name regarding your folder name\n",
    "name = \"bestmeat\"\n",
    "path = f\"data/images_{name}\""
   ]
  },
  {
   "cell_type": "code",
   "execution_count": null,
   "id": "little-gravity",
   "metadata": {},
   "outputs": [],
   "source": [
    "# access the files in the folder and check it\n",
    "path, dirs, files = next(os.walk(path))\n",
    "file_count = len(files)\n",
    "print(file_count)"
   ]
  },
  {
   "cell_type": "code",
   "execution_count": null,
   "id": "breeding-veteran",
   "metadata": {},
   "outputs": [],
   "source": [
    "# create the new dataframe for images data\n",
    "df_il = pd.DataFrame(columns=[\"media_name\"])"
   ]
  },
  {
   "cell_type": "code",
   "execution_count": null,
   "id": "endless-religion",
   "metadata": {},
   "outputs": [],
   "source": [
    "# store the media name of images to dataframe"
   ]
  },
  {
   "cell_type": "code",
   "execution_count": null,
   "id": "common-cigarette",
   "metadata": {},
   "outputs": [],
   "source": [
    "media_name = []"
   ]
  },
  {
   "cell_type": "code",
   "execution_count": null,
   "id": "cardiovascular-buying",
   "metadata": {},
   "outputs": [],
   "source": [
    "for root, dirs, files in os.walk(path):\n",
    "    for filename in files:\n",
    "        media_name.append(filename)"
   ]
  },
  {
   "cell_type": "code",
   "execution_count": null,
   "id": "determined-criticism",
   "metadata": {},
   "outputs": [],
   "source": [
    "df_il[\"media_name\"] = media_name\n",
    "df_il = df_il.sort_values(by=[\"media_name\"])"
   ]
  },
  {
   "cell_type": "markdown",
   "id": "global-preparation",
   "metadata": {},
   "source": [
    "## Check image-data Availability"
   ]
  },
  {
   "cell_type": "code",
   "execution_count": null,
   "id": "banned-missile",
   "metadata": {},
   "outputs": [],
   "source": [
    "# product which not have media\n",
    "df_pnm = df_mp.loc[~df_mp.media_name.isin(df_il.media_name.unique().tolist())]\n",
    "len(df_pnm)"
   ]
  },
  {
   "cell_type": "code",
   "execution_count": null,
   "id": "junior-malpractice",
   "metadata": {},
   "outputs": [],
   "source": [
    "# check in detail\n",
    "df_pnm"
   ]
  },
  {
   "cell_type": "code",
   "execution_count": null,
   "id": "satisfactory-spanish",
   "metadata": {},
   "outputs": [],
   "source": [
    "# media which not have product\n",
    "df_mnp = df_il.loc[~df_il.media_name.isin(df_mp.media_name.unique().tolist())]\n",
    "len(df_mnp)"
   ]
  },
  {
   "cell_type": "code",
   "execution_count": null,
   "id": "distant-montreal",
   "metadata": {},
   "outputs": [],
   "source": [
    "# check in detail\n",
    "df_mnp"
   ]
  },
  {
   "cell_type": "markdown",
   "id": "right-verification",
   "metadata": {},
   "source": [
    "## Additional process"
   ]
  },
  {
   "cell_type": "code",
   "execution_count": null,
   "id": "referenced-kitty",
   "metadata": {},
   "outputs": [],
   "source": [
    "# uncomment this cell if need to get link for completing images\n",
    "# df_pnm[\"media_name\"].to_csv(f\"data/product_images_{name}_2.csv\", index=False)"
   ]
  },
  {
   "cell_type": "code",
   "execution_count": null,
   "id": "varying-butter",
   "metadata": {},
   "outputs": [],
   "source": [
    "# product which have media\n",
    "df_pnm2 = df_mp.loc[df_mp.media_name.isin(df_il.media_name.unique().tolist())]\n",
    "len(df_pnm2)"
   ]
  },
  {
   "cell_type": "code",
   "execution_count": null,
   "id": "southern-supervision",
   "metadata": {},
   "outputs": [],
   "source": [
    "# delete images if necessary\n",
    "for x in df_mnp.media_name:\n",
    "    os.remove(os.path.join(path, x))"
   ]
  },
  {
   "cell_type": "code",
   "execution_count": null,
   "id": "novel-tension",
   "metadata": {},
   "outputs": [],
   "source": [
    "# check the duplicated data\n",
    "df_test = df_pnm2[df_pnm2.duplicated(\"product\")]\n",
    "df_test"
   ]
  },
  {
   "cell_type": "code",
   "execution_count": null,
   "id": "addressed-geometry",
   "metadata": {},
   "outputs": [],
   "source": [
    "# drop the duplicated data if needed\n",
    "# df_pnm2 = df_pnm2.drop_duplicates(subset=\"product\", keep=\"first\")"
   ]
  },
  {
   "cell_type": "markdown",
   "id": "excited-graphics",
   "metadata": {},
   "source": [
    "## Create query for images media"
   ]
  },
  {
   "cell_type": "code",
   "execution_count": null,
   "id": "opening-parish",
   "metadata": {},
   "outputs": [],
   "source": [
    "# check the updated data in detail\n",
    "# df_pnm2"
   ]
  },
  {
   "cell_type": "code",
   "execution_count": null,
   "id": "smaller-copyright",
   "metadata": {},
   "outputs": [],
   "source": [
    "# create the queries for updating the product media\n",
    "dt_sql = []\n",
    "for index, dt in df_pnm2.iterrows():\n",
    "    dt_sql.append(\"UPDATE food.product_medias SET media = '{}' WHERE id = {};\"\n",
    "                  .format(dt['media_name'],dt['media_id']))"
   ]
  },
  {
   "cell_type": "code",
   "execution_count": null,
   "id": "brazilian-recruitment",
   "metadata": {},
   "outputs": [],
   "source": [
    "# store the queries to file\n",
    "df_sql = pd.DataFrame()\n",
    "df_sql['query'] = dt_sql\n",
    "np.savetxt(f\"data/update_images_{name}.txt\", df_sql.values, fmt = \"%s\")"
   ]
  },
  {
   "cell_type": "code",
   "execution_count": null,
   "id": "charged-cornell",
   "metadata": {},
   "outputs": [],
   "source": []
  }
 ],
 "metadata": {
  "kernelspec": {
   "display_name": "Python 3",
   "language": "python",
   "name": "python3"
  },
  "language_info": {
   "codemirror_mode": {
    "name": "ipython",
    "version": 3
   },
   "file_extension": ".py",
   "mimetype": "text/x-python",
   "name": "python",
   "nbconvert_exporter": "python",
   "pygments_lexer": "ipython3",
   "version": "3.8.10"
  }
 },
 "nbformat": 4,
 "nbformat_minor": 5
}
