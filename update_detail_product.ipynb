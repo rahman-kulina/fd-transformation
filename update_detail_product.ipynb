{
 "cells": [
  {
   "cell_type": "code",
   "execution_count": null,
   "id": "wanted-manhattan",
   "metadata": {},
   "outputs": [],
   "source": [
    "# the packages\n",
    "import pandas as pd\n",
    "import numpy as np\n",
    "from sqlalchemy import create_engine\n",
    "import re\n",
    "import csv\n",
    "import os\n",
    "from dotenv import load_dotenv"
   ]
  },
  {
   "cell_type": "code",
   "execution_count": null,
   "id": "minute-shock",
   "metadata": {},
   "outputs": [],
   "source": [
    "# display configuration\n",
    "pd.set_option('display.max_columns', None)\n",
    "pd.set_option('display.max_rows', None)\n",
    "pd.set_option('display.max_colwidth', -1)"
   ]
  },
  {
   "cell_type": "code",
   "execution_count": null,
   "id": "incorporated-whole",
   "metadata": {},
   "outputs": [],
   "source": [
    "load_dotenv()\n",
    "\n",
    "db_access = os.environ['MYSQL_PROD_CON']\n",
    "db_access"
   ]
  },
  {
   "cell_type": "markdown",
   "id": "opposed-allowance",
   "metadata": {},
   "source": [
    "## Load the Data"
   ]
  },
  {
   "cell_type": "code",
   "execution_count": null,
   "id": "photographic-terror",
   "metadata": {},
   "outputs": [],
   "source": [
    "# use this if we have the data\n",
    "# df_raw = pd.read_csv(\"data/namu korean mart update tpl.csv\")"
   ]
  },
  {
   "cell_type": "code",
   "execution_count": null,
   "id": "native-attraction",
   "metadata": {},
   "outputs": [],
   "source": [
    "# use query using sqlalchemy tool if we dont have the data\n",
    "\n",
    "# the steps:\n",
    "# 1. connect to vpn\n",
    "# 2. access the db\n",
    "# 3. insert the query\n",
    "# 4. read the query to df using pandas"
   ]
  },
  {
   "cell_type": "code",
   "execution_count": null,
   "id": "exceptional-norfolk",
   "metadata": {},
   "outputs": [],
   "source": [
    "con_db = create_engine(db_access)"
   ]
  },
  {
   "cell_type": "code",
   "execution_count": null,
   "id": "advised-stack",
   "metadata": {},
   "outputs": [],
   "source": [
    "# actually, the query depends on the request, the query example below is to get product and fulfillment for outlet with id\n",
    "\n",
    "q = f\"\"\"\n",
    "SELECT o.name as outlet, \n",
    "       p.id as product_id,\n",
    "       p.name as product_name,\n",
    "       pm.product_fulfillment_type_id AS product_fulfillment_type_id\n",
    "FROM products p\n",
    "JOIN outlets o ON o.id = p.outlet_id\n",
    "JOIN product_fulfillments pm ON pm.product_id = p.id\n",
    "WHERE o.id = 11143\n",
    "\"\"\""
   ]
  },
  {
   "cell_type": "code",
   "execution_count": null,
   "id": "vocational-campaign",
   "metadata": {},
   "outputs": [],
   "source": [
    "df_raw = pd.read_sql(q, con=con_db)"
   ]
  },
  {
   "cell_type": "code",
   "execution_count": null,
   "id": "plain-expense",
   "metadata": {},
   "outputs": [],
   "source": [
    "df_raw.info()"
   ]
  },
  {
   "cell_type": "markdown",
   "id": "widespread-cricket",
   "metadata": {},
   "source": [
    "## Check the Data"
   ]
  },
  {
   "cell_type": "code",
   "execution_count": null,
   "id": "whole-atlantic",
   "metadata": {},
   "outputs": [],
   "source": [
    "# uncomment this cell to check the data in detail\n",
    "df_raw"
   ]
  },
  {
   "cell_type": "code",
   "execution_count": null,
   "id": "attempted-haiti",
   "metadata": {},
   "outputs": [],
   "source": [
    "# check the duplicated data if needed\n",
    "df_raw.duplicated(['product_id']).any()"
   ]
  },
  {
   "cell_type": "markdown",
   "id": "expired-destiny",
   "metadata": {},
   "source": [
    "## Update the Data using Query"
   ]
  },
  {
   "cell_type": "code",
   "execution_count": null,
   "id": "transparent-liquid",
   "metadata": {},
   "outputs": [],
   "source": [
    "# create query for update the product fullfillment requested\n",
    "dt_sql = []\n",
    "for index, dt in df_raw.iterrows():\n",
    "    dt_sql.append(\"UPDATE food.product_fulfillments SET product_fulfillment_type_id=2, interval=3 WHERE product_id = {};\".format(dt[\"product_id\"]))"
   ]
  },
  {
   "cell_type": "code",
   "execution_count": null,
   "id": "distant-provider",
   "metadata": {},
   "outputs": [],
   "source": [
    "# set the filename with outlet and the requested type\n",
    "outlet_name = df_raw[\"outlet\"].unique()\n",
    "outlet_name = outlet_name[0]\n",
    "request_type = \"update_fulfillment\""
   ]
  },
  {
   "cell_type": "code",
   "execution_count": null,
   "id": "appropriate-characteristic",
   "metadata": {},
   "outputs": [],
   "source": [
    "# store to file txt in save it in local\n",
    "df_sql = pd.DataFrame()\n",
    "df_sql['query'] = dt_sql\n",
    "np.savetxt(f\"data/{request_type}_{outlet_name}.txt\", df_sql.values, fmt = \"%s\")"
   ]
  },
  {
   "cell_type": "markdown",
   "id": "eight-subscription",
   "metadata": {},
   "source": [
    "## Another Queries Example"
   ]
  },
  {
   "cell_type": "code",
   "execution_count": null,
   "id": "sufficient-monaco",
   "metadata": {},
   "outputs": [],
   "source": [
    "# uncomment or copy the below cells depends on your requested"
   ]
  },
  {
   "cell_type": "code",
   "execution_count": null,
   "id": "grave-breath",
   "metadata": {},
   "outputs": [],
   "source": [
    "# create query for updating the product prices requested\n",
    "# request_type = \"update_prices\"\n",
    "# dt_sql = []\n",
    "# for index, dt in df_raw.iterrows():\n",
    "#     dt_sql.append(\"UPDATE food.product_prices SET price={} WHERE product_id = {};\".format(dt[\"new_price\"],dt[\"id\"]))"
   ]
  },
  {
   "cell_type": "code",
   "execution_count": null,
   "id": "running-kruger",
   "metadata": {},
   "outputs": [],
   "source": [
    "# create query for updating the product name requested\n",
    "# request_type = \"update_name\"\n",
    "# dt_sql = []\n",
    "# for index, dt in df_raw_renamed.iterrows():\n",
    "#     dt_sql.append(\"UPDATE food.products SET name='{}' WHERE id = {};\".format(dt[\"renamed\"],dt[\"id\"]))"
   ]
  },
  {
   "cell_type": "code",
   "execution_count": null,
   "id": "prescribed-nursery",
   "metadata": {},
   "outputs": [],
   "source": [
    "# create query for deleting the product delivery partner requested requested\n",
    "# request_type = \"delete_delivery_partner\"\n",
    "# dt_sql = []\n",
    "# for index, dt in df_new.iterrows():\n",
    "#     dt_sql.append(\"DELETE FROM food.product_delivery_partners WHERE product_id = {};\".format(dt[\"product_id\"]))"
   ]
  },
  {
   "cell_type": "code",
   "execution_count": null,
   "id": "animated-tractor",
   "metadata": {},
   "outputs": [],
   "source": [
    "# dont forget to store the queries to file txt\n",
    "# outlet_name = df_raw[\"outlet\"].unique()\n",
    "# outlet_name = outlet_name[0]\n",
    "# df_sql = pd.DataFrame()\n",
    "# df_sql['query'] = dt_sql\n",
    "# np.savetxt(f\"data/{request_type}_{outlet_name}.txt\", df_sql.values, fmt = \"%s\")"
   ]
  }
 ],
 "metadata": {
  "kernelspec": {
   "display_name": "Python 3",
   "language": "python",
   "name": "python3"
  },
  "language_info": {
   "codemirror_mode": {
    "name": "ipython",
    "version": 3
   },
   "file_extension": ".py",
   "mimetype": "text/x-python",
   "name": "python",
   "nbconvert_exporter": "python",
   "pygments_lexer": "ipython3",
   "version": "3.8.10"
  }
 },
 "nbformat": 4,
 "nbformat_minor": 5
}
